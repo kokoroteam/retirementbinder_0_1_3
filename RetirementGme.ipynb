{
 "cells": [
  {
   "cell_type": "code",
   "execution_count": null,
   "metadata": {},
   "outputs": [],
   "source": [
    "import retirement.retirementPkg\n",
    "ret = retirement.retirementPkg.retirement()\n",
    "\n",
    "ret.intro()\n",
    "variables, variable_names, df = ret.var_input()\n",
    "df = ret.impact_years_compounding(variables, df)\n",
    "\n",
    "######################################\n",
    "\n",
    "df = df.reset_index()\n",
    "del df['index']\n",
    "\n",
    "import random\n",
    "import matplotlib\n",
    "from matplotlib import animation\n",
    "import matplotlib.pyplot as plt\n",
    "from matplotlib.animation import FuncAnimation\n",
    "from itertools import count\n",
    "import seaborn\n",
    "import time\n",
    "\n",
    "%matplotlib notebook\n",
    "\n",
    "#x1 = df.index\n",
    "x1 = [a for a in range(variables[11], variables[11] + len(df))]\n",
    "y1 = [df.loc[i, 'final_principle'] for i in range(0, len(df))]\n",
    "\n",
    "x, y = [], []\n",
    "\n",
    "fig = plt.figure(figsize=(10,4))\n",
    "axes = fig.add_subplot(1,1,1)\n",
    "\n",
    "axes.set_ylim(df.iloc[0,-2], df['final_principle'].max())\n",
    "    \n",
    "#axes.set_xlim(0, len(df) - 1)\n",
    "axes.set_xlim(variables[11], variables[11] + len(df))\n",
    "\n",
    "plt.style.use(\"seaborn\")\n",
    "\n",
    "plt.xlabel(\"Age\")\n",
    "plt.ylabel('Retirement Savings in Thousands of $')\n",
    "\n",
    "def animate(i):\n",
    "    x.append(x1[i])\n",
    "    y.append(y1[i])\n",
    "    plt.plot(x, y, scaley = True, scalex = True, color = \"blue\")\n",
    "\n",
    "anim = FuncAnimation(fig = fig, func = animate, interval = 100)\n",
    "plt.show()\n",
    "\n",
    "##########################################################\n",
    "ret.summary(df)"
   ]
  }
 ],
 "metadata": {
  "kernelspec": {
   "display_name": "Python 3 (ipykernel)",
   "language": "python",
   "name": "python3"
  },
  "language_info": {
   "codemirror_mode": {
    "name": "ipython",
    "version": 3
   },
   "file_extension": ".py",
   "mimetype": "text/x-python",
   "name": "python",
   "nbconvert_exporter": "python",
   "pygments_lexer": "ipython3",
   "version": "3.9.12"
  }
 },
 "nbformat": 4,
 "nbformat_minor": 2
}
